{
 "cells": [
  {
   "cell_type": "code",
   "execution_count": 5,
   "metadata": {},
   "outputs": [],
   "source": [
    "import requests"
   ]
  },
  {
   "cell_type": "code",
   "execution_count": 6,
   "metadata": {},
   "outputs": [],
   "source": [
    "url = \"https://api.royaleapi.com/clan/2CCCP\""
   ]
  },
  {
   "cell_type": "code",
   "execution_count": 7,
   "metadata": {},
   "outputs": [],
   "source": [
    "with open('../royale_api.txt') as f:\n",
    "    headers = {\n",
    "        'auth': f.read().rstrip(\"\\n\")\n",
    "    }"
   ]
  },
  {
   "cell_type": "code",
   "execution_count": 8,
   "metadata": {},
   "outputs": [],
   "source": [
    "response = requests.request(\"GET\", url, headers=headers)\n",
    "\n",
    "data = response.json()"
   ]
  },
  {
   "cell_type": "code",
   "execution_count": 9,
   "metadata": {},
   "outputs": [
    {
     "data": {
      "text/plain": [
       "{'tag': '2CCCP',\n",
       " 'name': 'Reddit Alpha',\n",
       " 'description': 'On the move to 100T Alpha (#9PJ82CRC) 🚀http://discord.gg/100t',\n",
       " 'type': 'invite only',\n",
       " 'score': 0,\n",
       " 'warTrophies': 427,\n",
       " 'memberCount': 1,\n",
       " 'requiredScore': 0,\n",
       " 'donations': 0,\n",
       " 'badge': {'id': 16000167,\n",
       "  'name': 'A_Char_Rocket_02',\n",
       "  'category': '03_Royale',\n",
       "  'image': 'https://royaleapi.github.io/cr-api-assets/badges/A_Char_Rocket_02.png'},\n",
       " 'location': {'name': 'Antarctica', 'isCountry': True, 'code': 'AQ'},\n",
       " 'members': [{'name': 'Woody 10',\n",
       "   'tag': '9VR88UQQ9',\n",
       "   'rank': 1,\n",
       "   'previousRank': 1,\n",
       "   'role': 'leader',\n",
       "   'expLevel': 1,\n",
       "   'trophies': 0,\n",
       "   'lastSeen': '2019-08-12T18:11:06Z',\n",
       "   'donations': 0,\n",
       "   'donationsReceived': 0,\n",
       "   'donationsDelta': 0,\n",
       "   'arena': {'id': 1,\n",
       "    'name': 'Goblin Stadium',\n",
       "    'arena': 'Arena 1',\n",
       "    'trophyLimit': 0},\n",
       "   'donationsPercent': 0}],\n",
       " 'tracking': {'active': False,\n",
       "  'legible': True,\n",
       "  'available': True,\n",
       "  'snapshotCount': 1652}}"
      ]
     },
     "execution_count": 9,
     "metadata": {},
     "output_type": "execute_result"
    }
   ],
   "source": [
    "data"
   ]
  },
  {
   "cell_type": "code",
   "execution_count": null,
   "metadata": {},
   "outputs": [],
   "source": []
  }
 ],
 "metadata": {
  "kernelspec": {
   "display_name": "Python 3",
   "language": "python",
   "name": "python3"
  },
  "language_info": {
   "codemirror_mode": {
    "name": "ipython",
    "version": 3
   },
   "file_extension": ".py",
   "mimetype": "text/x-python",
   "name": "python",
   "nbconvert_exporter": "python",
   "pygments_lexer": "ipython3",
   "version": "3.7.3"
  }
 },
 "nbformat": 4,
 "nbformat_minor": 2
}
