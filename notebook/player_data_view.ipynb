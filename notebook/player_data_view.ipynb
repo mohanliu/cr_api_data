{
 "cells": [
  {
   "cell_type": "code",
   "execution_count": 1,
   "metadata": {},
   "outputs": [],
   "source": [
    "import urllib.request\n",
    "import json\n",
    "import pandas as pd"
   ]
  },
  {
   "cell_type": "code",
   "execution_count": 2,
   "metadata": {},
   "outputs": [],
   "source": [
    "with open('../token.txt', 'r') as f:\n",
    "    my_key = f.read().rstrip(\"\\n\")"
   ]
  },
  {
   "cell_type": "code",
   "execution_count": 43,
   "metadata": {},
   "outputs": [],
   "source": [
    "base_url = \"https://api.clashroyale.com/v1\""
   ]
  },
  {
   "cell_type": "code",
   "execution_count": 44,
   "metadata": {},
   "outputs": [],
   "source": [
    "endpoint = \"/players/%238C08LQRR/battlelog/\" "
   ]
  },
  {
   "cell_type": "code",
   "execution_count": 45,
   "metadata": {},
   "outputs": [],
   "source": [
    "request = urllib.request.Request(\n",
    "    base_url + endpoint,\n",
    "    None,\n",
    "    {\n",
    "        \"Authorization\": \"Bearer %s\" % my_key\n",
    "    }\n",
    ")"
   ]
  },
  {
   "cell_type": "code",
   "execution_count": 46,
   "metadata": {},
   "outputs": [
    {
     "ename": "HTTPError",
     "evalue": "HTTP Error 401: Unauthorized",
     "output_type": "error",
     "traceback": [
      "\u001b[0;31m---------------------------------------------------------------------------\u001b[0m",
      "\u001b[0;31mHTTPError\u001b[0m                                 Traceback (most recent call last)",
      "\u001b[0;32m<ipython-input-46-71e395f0c360>\u001b[0m in \u001b[0;36m<module>\u001b[0;34m\u001b[0m\n\u001b[0;32m----> 1\u001b[0;31m \u001b[0mresponse\u001b[0m \u001b[0;34m=\u001b[0m \u001b[0murllib\u001b[0m\u001b[0;34m.\u001b[0m\u001b[0mrequest\u001b[0m\u001b[0;34m.\u001b[0m\u001b[0murlopen\u001b[0m\u001b[0;34m(\u001b[0m\u001b[0mrequest\u001b[0m\u001b[0;34m)\u001b[0m\u001b[0;34m.\u001b[0m\u001b[0mread\u001b[0m\u001b[0;34m(\u001b[0m\u001b[0;34m)\u001b[0m\u001b[0;34m.\u001b[0m\u001b[0mdecode\u001b[0m\u001b[0;34m(\u001b[0m\u001b[0;34m\"utf-8\"\u001b[0m\u001b[0;34m)\u001b[0m\u001b[0;34m\u001b[0m\u001b[0;34m\u001b[0m\u001b[0m\n\u001b[0m",
      "\u001b[0;32m/anaconda3/envs/data/lib/python3.7/urllib/request.py\u001b[0m in \u001b[0;36murlopen\u001b[0;34m(url, data, timeout, cafile, capath, cadefault, context)\u001b[0m\n\u001b[1;32m    220\u001b[0m     \u001b[0;32melse\u001b[0m\u001b[0;34m:\u001b[0m\u001b[0;34m\u001b[0m\u001b[0;34m\u001b[0m\u001b[0m\n\u001b[1;32m    221\u001b[0m         \u001b[0mopener\u001b[0m \u001b[0;34m=\u001b[0m \u001b[0m_opener\u001b[0m\u001b[0;34m\u001b[0m\u001b[0;34m\u001b[0m\u001b[0m\n\u001b[0;32m--> 222\u001b[0;31m     \u001b[0;32mreturn\u001b[0m \u001b[0mopener\u001b[0m\u001b[0;34m.\u001b[0m\u001b[0mopen\u001b[0m\u001b[0;34m(\u001b[0m\u001b[0murl\u001b[0m\u001b[0;34m,\u001b[0m \u001b[0mdata\u001b[0m\u001b[0;34m,\u001b[0m \u001b[0mtimeout\u001b[0m\u001b[0;34m)\u001b[0m\u001b[0;34m\u001b[0m\u001b[0;34m\u001b[0m\u001b[0m\n\u001b[0m\u001b[1;32m    223\u001b[0m \u001b[0;34m\u001b[0m\u001b[0m\n\u001b[1;32m    224\u001b[0m \u001b[0;32mdef\u001b[0m \u001b[0minstall_opener\u001b[0m\u001b[0;34m(\u001b[0m\u001b[0mopener\u001b[0m\u001b[0;34m)\u001b[0m\u001b[0;34m:\u001b[0m\u001b[0;34m\u001b[0m\u001b[0;34m\u001b[0m\u001b[0m\n",
      "\u001b[0;32m/anaconda3/envs/data/lib/python3.7/urllib/request.py\u001b[0m in \u001b[0;36mopen\u001b[0;34m(self, fullurl, data, timeout)\u001b[0m\n\u001b[1;32m    529\u001b[0m         \u001b[0;32mfor\u001b[0m \u001b[0mprocessor\u001b[0m \u001b[0;32min\u001b[0m \u001b[0mself\u001b[0m\u001b[0;34m.\u001b[0m\u001b[0mprocess_response\u001b[0m\u001b[0;34m.\u001b[0m\u001b[0mget\u001b[0m\u001b[0;34m(\u001b[0m\u001b[0mprotocol\u001b[0m\u001b[0;34m,\u001b[0m \u001b[0;34m[\u001b[0m\u001b[0;34m]\u001b[0m\u001b[0;34m)\u001b[0m\u001b[0;34m:\u001b[0m\u001b[0;34m\u001b[0m\u001b[0;34m\u001b[0m\u001b[0m\n\u001b[1;32m    530\u001b[0m             \u001b[0mmeth\u001b[0m \u001b[0;34m=\u001b[0m \u001b[0mgetattr\u001b[0m\u001b[0;34m(\u001b[0m\u001b[0mprocessor\u001b[0m\u001b[0;34m,\u001b[0m \u001b[0mmeth_name\u001b[0m\u001b[0;34m)\u001b[0m\u001b[0;34m\u001b[0m\u001b[0;34m\u001b[0m\u001b[0m\n\u001b[0;32m--> 531\u001b[0;31m             \u001b[0mresponse\u001b[0m \u001b[0;34m=\u001b[0m \u001b[0mmeth\u001b[0m\u001b[0;34m(\u001b[0m\u001b[0mreq\u001b[0m\u001b[0;34m,\u001b[0m \u001b[0mresponse\u001b[0m\u001b[0;34m)\u001b[0m\u001b[0;34m\u001b[0m\u001b[0;34m\u001b[0m\u001b[0m\n\u001b[0m\u001b[1;32m    532\u001b[0m \u001b[0;34m\u001b[0m\u001b[0m\n\u001b[1;32m    533\u001b[0m         \u001b[0;32mreturn\u001b[0m \u001b[0mresponse\u001b[0m\u001b[0;34m\u001b[0m\u001b[0;34m\u001b[0m\u001b[0m\n",
      "\u001b[0;32m/anaconda3/envs/data/lib/python3.7/urllib/request.py\u001b[0m in \u001b[0;36mhttp_response\u001b[0;34m(self, request, response)\u001b[0m\n\u001b[1;32m    639\u001b[0m         \u001b[0;32mif\u001b[0m \u001b[0;32mnot\u001b[0m \u001b[0;34m(\u001b[0m\u001b[0;36m200\u001b[0m \u001b[0;34m<=\u001b[0m \u001b[0mcode\u001b[0m \u001b[0;34m<\u001b[0m \u001b[0;36m300\u001b[0m\u001b[0;34m)\u001b[0m\u001b[0;34m:\u001b[0m\u001b[0;34m\u001b[0m\u001b[0;34m\u001b[0m\u001b[0m\n\u001b[1;32m    640\u001b[0m             response = self.parent.error(\n\u001b[0;32m--> 641\u001b[0;31m                 'http', request, response, code, msg, hdrs)\n\u001b[0m\u001b[1;32m    642\u001b[0m \u001b[0;34m\u001b[0m\u001b[0m\n\u001b[1;32m    643\u001b[0m         \u001b[0;32mreturn\u001b[0m \u001b[0mresponse\u001b[0m\u001b[0;34m\u001b[0m\u001b[0;34m\u001b[0m\u001b[0m\n",
      "\u001b[0;32m/anaconda3/envs/data/lib/python3.7/urllib/request.py\u001b[0m in \u001b[0;36merror\u001b[0;34m(self, proto, *args)\u001b[0m\n\u001b[1;32m    567\u001b[0m         \u001b[0;32mif\u001b[0m \u001b[0mhttp_err\u001b[0m\u001b[0;34m:\u001b[0m\u001b[0;34m\u001b[0m\u001b[0;34m\u001b[0m\u001b[0m\n\u001b[1;32m    568\u001b[0m             \u001b[0margs\u001b[0m \u001b[0;34m=\u001b[0m \u001b[0;34m(\u001b[0m\u001b[0mdict\u001b[0m\u001b[0;34m,\u001b[0m \u001b[0;34m'default'\u001b[0m\u001b[0;34m,\u001b[0m \u001b[0;34m'http_error_default'\u001b[0m\u001b[0;34m)\u001b[0m \u001b[0;34m+\u001b[0m \u001b[0morig_args\u001b[0m\u001b[0;34m\u001b[0m\u001b[0;34m\u001b[0m\u001b[0m\n\u001b[0;32m--> 569\u001b[0;31m             \u001b[0;32mreturn\u001b[0m \u001b[0mself\u001b[0m\u001b[0;34m.\u001b[0m\u001b[0m_call_chain\u001b[0m\u001b[0;34m(\u001b[0m\u001b[0;34m*\u001b[0m\u001b[0margs\u001b[0m\u001b[0;34m)\u001b[0m\u001b[0;34m\u001b[0m\u001b[0;34m\u001b[0m\u001b[0m\n\u001b[0m\u001b[1;32m    570\u001b[0m \u001b[0;34m\u001b[0m\u001b[0m\n\u001b[1;32m    571\u001b[0m \u001b[0;31m# XXX probably also want an abstract factory that knows when it makes\u001b[0m\u001b[0;34m\u001b[0m\u001b[0;34m\u001b[0m\u001b[0;34m\u001b[0m\u001b[0m\n",
      "\u001b[0;32m/anaconda3/envs/data/lib/python3.7/urllib/request.py\u001b[0m in \u001b[0;36m_call_chain\u001b[0;34m(self, chain, kind, meth_name, *args)\u001b[0m\n\u001b[1;32m    501\u001b[0m         \u001b[0;32mfor\u001b[0m \u001b[0mhandler\u001b[0m \u001b[0;32min\u001b[0m \u001b[0mhandlers\u001b[0m\u001b[0;34m:\u001b[0m\u001b[0;34m\u001b[0m\u001b[0;34m\u001b[0m\u001b[0m\n\u001b[1;32m    502\u001b[0m             \u001b[0mfunc\u001b[0m \u001b[0;34m=\u001b[0m \u001b[0mgetattr\u001b[0m\u001b[0;34m(\u001b[0m\u001b[0mhandler\u001b[0m\u001b[0;34m,\u001b[0m \u001b[0mmeth_name\u001b[0m\u001b[0;34m)\u001b[0m\u001b[0;34m\u001b[0m\u001b[0;34m\u001b[0m\u001b[0m\n\u001b[0;32m--> 503\u001b[0;31m             \u001b[0mresult\u001b[0m \u001b[0;34m=\u001b[0m \u001b[0mfunc\u001b[0m\u001b[0;34m(\u001b[0m\u001b[0;34m*\u001b[0m\u001b[0margs\u001b[0m\u001b[0;34m)\u001b[0m\u001b[0;34m\u001b[0m\u001b[0;34m\u001b[0m\u001b[0m\n\u001b[0m\u001b[1;32m    504\u001b[0m             \u001b[0;32mif\u001b[0m \u001b[0mresult\u001b[0m \u001b[0;32mis\u001b[0m \u001b[0;32mnot\u001b[0m \u001b[0;32mNone\u001b[0m\u001b[0;34m:\u001b[0m\u001b[0;34m\u001b[0m\u001b[0;34m\u001b[0m\u001b[0m\n\u001b[1;32m    505\u001b[0m                 \u001b[0;32mreturn\u001b[0m \u001b[0mresult\u001b[0m\u001b[0;34m\u001b[0m\u001b[0;34m\u001b[0m\u001b[0m\n",
      "\u001b[0;32m/anaconda3/envs/data/lib/python3.7/urllib/request.py\u001b[0m in \u001b[0;36mhttp_error_default\u001b[0;34m(self, req, fp, code, msg, hdrs)\u001b[0m\n\u001b[1;32m    647\u001b[0m \u001b[0;32mclass\u001b[0m \u001b[0mHTTPDefaultErrorHandler\u001b[0m\u001b[0;34m(\u001b[0m\u001b[0mBaseHandler\u001b[0m\u001b[0;34m)\u001b[0m\u001b[0;34m:\u001b[0m\u001b[0;34m\u001b[0m\u001b[0;34m\u001b[0m\u001b[0m\n\u001b[1;32m    648\u001b[0m     \u001b[0;32mdef\u001b[0m \u001b[0mhttp_error_default\u001b[0m\u001b[0;34m(\u001b[0m\u001b[0mself\u001b[0m\u001b[0;34m,\u001b[0m \u001b[0mreq\u001b[0m\u001b[0;34m,\u001b[0m \u001b[0mfp\u001b[0m\u001b[0;34m,\u001b[0m \u001b[0mcode\u001b[0m\u001b[0;34m,\u001b[0m \u001b[0mmsg\u001b[0m\u001b[0;34m,\u001b[0m \u001b[0mhdrs\u001b[0m\u001b[0;34m)\u001b[0m\u001b[0;34m:\u001b[0m\u001b[0;34m\u001b[0m\u001b[0;34m\u001b[0m\u001b[0m\n\u001b[0;32m--> 649\u001b[0;31m         \u001b[0;32mraise\u001b[0m \u001b[0mHTTPError\u001b[0m\u001b[0;34m(\u001b[0m\u001b[0mreq\u001b[0m\u001b[0;34m.\u001b[0m\u001b[0mfull_url\u001b[0m\u001b[0;34m,\u001b[0m \u001b[0mcode\u001b[0m\u001b[0;34m,\u001b[0m \u001b[0mmsg\u001b[0m\u001b[0;34m,\u001b[0m \u001b[0mhdrs\u001b[0m\u001b[0;34m,\u001b[0m \u001b[0mfp\u001b[0m\u001b[0;34m)\u001b[0m\u001b[0;34m\u001b[0m\u001b[0;34m\u001b[0m\u001b[0m\n\u001b[0m\u001b[1;32m    650\u001b[0m \u001b[0;34m\u001b[0m\u001b[0m\n\u001b[1;32m    651\u001b[0m \u001b[0;32mclass\u001b[0m \u001b[0mHTTPRedirectHandler\u001b[0m\u001b[0;34m(\u001b[0m\u001b[0mBaseHandler\u001b[0m\u001b[0;34m)\u001b[0m\u001b[0;34m:\u001b[0m\u001b[0;34m\u001b[0m\u001b[0;34m\u001b[0m\u001b[0m\n",
      "\u001b[0;31mHTTPError\u001b[0m: HTTP Error 401: Unauthorized"
     ]
    }
   ],
   "source": [
    "response = urllib.request.urlopen(request).read().decode(\"utf-8\")"
   ]
  },
  {
   "cell_type": "code",
   "execution_count": 31,
   "metadata": {},
   "outputs": [],
   "source": [
    "data_json = json.loads(response)"
   ]
  },
  {
   "cell_type": "code",
   "execution_count": 32,
   "metadata": {},
   "outputs": [
    {
     "ename": "TypeError",
     "evalue": "string indices must be integers",
     "output_type": "error",
     "traceback": [
      "\u001b[0;31m---------------------------------------------------------------------------\u001b[0m",
      "\u001b[0;31mTypeError\u001b[0m                                 Traceback (most recent call last)",
      "\u001b[0;32m<ipython-input-32-5aa313cb9db8>\u001b[0m in \u001b[0;36m<module>\u001b[0;34m\u001b[0m\n\u001b[1;32m      1\u001b[0m \u001b[0;32mfor\u001b[0m \u001b[0mbl\u001b[0m \u001b[0;32min\u001b[0m \u001b[0mdata_json\u001b[0m\u001b[0;34m:\u001b[0m\u001b[0;34m\u001b[0m\u001b[0;34m\u001b[0m\u001b[0m\n\u001b[0;32m----> 2\u001b[0;31m     \u001b[0mprint\u001b[0m\u001b[0;34m(\u001b[0m\u001b[0mbl\u001b[0m\u001b[0;34m[\u001b[0m\u001b[0;34m'type'\u001b[0m\u001b[0;34m]\u001b[0m\u001b[0;34m)\u001b[0m\u001b[0;34m\u001b[0m\u001b[0;34m\u001b[0m\u001b[0m\n\u001b[0m",
      "\u001b[0;31mTypeError\u001b[0m: string indices must be integers"
     ]
    }
   ],
   "source": [
    "for bl in data_json:\n",
    "    print(bl['type'])"
   ]
  },
  {
   "cell_type": "code",
   "execution_count": 9,
   "metadata": {},
   "outputs": [
    {
     "data": {
      "text/plain": [
       "{'type': 'PvP',\n",
       " 'battleTime': '20191231T013847.000Z',\n",
       " 'isLadderTournament': False,\n",
       " 'arena': {'id': 54000039, 'name': 'Legendary Arena'},\n",
       " 'gameMode': {'id': 72000006, 'name': 'Ladder'},\n",
       " 'deckSelection': 'collection',\n",
       " 'team': [{'tag': '#8C08LQRR',\n",
       "   'name': '智取其乳',\n",
       "   'startingTrophies': 6258,\n",
       "   'trophyChange': 27,\n",
       "   'crowns': 2,\n",
       "   'kingTowerHitPoints': 5565,\n",
       "   'princessTowersHitPoints': [3472],\n",
       "   'clan': {'tag': '#C9GPGG', 'name': '团结保卫钓岛', 'badgeId': 16000008},\n",
       "   'cards': [{'name': 'Golem',\n",
       "     'id': 26000009,\n",
       "     'level': 8,\n",
       "     'starLevel': 2,\n",
       "     'maxLevel': 8,\n",
       "     'iconUrls': {'medium': 'https://api-assets.clashroyale.com/cards/300/npdmCnET7jmVjJvjJQkFnNSNnDxYHDBigbvIAloFMds.png'}},\n",
       "    {'name': 'Night Witch',\n",
       "     'id': 26000048,\n",
       "     'level': 5,\n",
       "     'maxLevel': 5,\n",
       "     'iconUrls': {'medium': 'https://api-assets.clashroyale.com/cards/300/NpCrXDEDBBJgNv9QrBAcJmmMFbS7pe3KCY8xJ5VB18A.png'}},\n",
       "    {'name': 'Goblin Gang',\n",
       "     'id': 26000041,\n",
       "     'level': 13,\n",
       "     'maxLevel': 13,\n",
       "     'iconUrls': {'medium': 'https://api-assets.clashroyale.com/cards/300/NHflxzVAQT4oAz7eDfdueqpictb5vrWezn1nuqFhE4w.png'}},\n",
       "    {'name': 'Lightning',\n",
       "     'id': 28000007,\n",
       "     'level': 8,\n",
       "     'maxLevel': 8,\n",
       "     'iconUrls': {'medium': 'https://api-assets.clashroyale.com/cards/300/fpnESbYqe5GyZmaVVYe-SEu7tE0Kxh_HZyVigzvLjks.png'}},\n",
       "    {'name': 'Mini P.E.K.K.A',\n",
       "     'id': 26000018,\n",
       "     'level': 11,\n",
       "     'starLevel': 2,\n",
       "     'maxLevel': 11,\n",
       "     'iconUrls': {'medium': 'https://api-assets.clashroyale.com/cards/300/Fmltc4j3Ve9vO_xhHHPEO3PRP3SmU2oKp2zkZQHRZT4.png'}},\n",
       "    {'name': 'Mega Minion',\n",
       "     'id': 26000039,\n",
       "     'level': 11,\n",
       "     'maxLevel': 11,\n",
       "     'iconUrls': {'medium': 'https://api-assets.clashroyale.com/cards/300/-T_e4YLbuhPBKbYnBwQfXgynNpp5eOIN_0RracYwL9c.png'}},\n",
       "    {'name': 'Baby Dragon',\n",
       "     'id': 26000015,\n",
       "     'level': 8,\n",
       "     'maxLevel': 8,\n",
       "     'iconUrls': {'medium': 'https://api-assets.clashroyale.com/cards/300/cjC9n4AvEZJ3urkVh-rwBkJ-aRSsydIMqSAV48hAih0.png'}},\n",
       "    {'name': 'Arrows',\n",
       "     'id': 28000001,\n",
       "     'level': 13,\n",
       "     'maxLevel': 13,\n",
       "     'iconUrls': {'medium': 'https://api-assets.clashroyale.com/cards/300/Flsoci-Y6y8ZFVi5uRFTmgkPnCmMyMVrU7YmmuPvSBo.png'}}]}],\n",
       " 'opponent': [{'tag': '#29V0PV9QJ',\n",
       "   'name': '⚔️TonyMontana⚔️',\n",
       "   'startingTrophies': 6233,\n",
       "   'trophyChange': -27,\n",
       "   'crowns': 1,\n",
       "   'kingTowerHitPoints': 5301,\n",
       "   'clan': {'tag': '#R09CJ9', 'name': 'Dragon HunterDr', 'badgeId': 16000064},\n",
       "   'cards': [{'name': 'P.E.K.K.A',\n",
       "     'id': 26000004,\n",
       "     'level': 8,\n",
       "     'starLevel': 1,\n",
       "     'maxLevel': 8,\n",
       "     'iconUrls': {'medium': 'https://api-assets.clashroyale.com/cards/300/MlArURKhn_zWAZY-Xj1qIRKLVKquarG25BXDjUQajNs.png'}},\n",
       "    {'name': 'Tornado',\n",
       "     'id': 28000012,\n",
       "     'level': 8,\n",
       "     'maxLevel': 8,\n",
       "     'iconUrls': {'medium': 'https://api-assets.clashroyale.com/cards/300/QJB-QK1QJHdw4hjpAwVSyZBozc2ZWAR9pQ-SMUyKaT0.png'}},\n",
       "    {'name': 'Hog Rider',\n",
       "     'id': 26000021,\n",
       "     'level': 11,\n",
       "     'starLevel': 3,\n",
       "     'maxLevel': 11,\n",
       "     'iconUrls': {'medium': 'https://api-assets.clashroyale.com/cards/300/Ubu0oUl8tZkusnkZf8Xv9Vno5IO29Y-jbZ4fhoNJ5oc.png'}},\n",
       "    {'name': 'Earthquake',\n",
       "     'id': 28000014,\n",
       "     'level': 11,\n",
       "     'maxLevel': 11,\n",
       "     'iconUrls': {'medium': 'https://api-assets.clashroyale.com/cards/300/XeQXcrUu59C52DslyZVwCnbi4yamID-WxfVZLShgZmE.png'}},\n",
       "    {'name': 'Executioner',\n",
       "     'id': 26000045,\n",
       "     'level': 8,\n",
       "     'starLevel': 2,\n",
       "     'maxLevel': 8,\n",
       "     'iconUrls': {'medium': 'https://api-assets.clashroyale.com/cards/300/9XL5BP2mqzV8kza6KF8rOxrpCZTyuGLp2l413DTjEoM.png'}},\n",
       "    {'name': 'Zap',\n",
       "     'id': 28000008,\n",
       "     'level': 13,\n",
       "     'maxLevel': 13,\n",
       "     'iconUrls': {'medium': 'https://api-assets.clashroyale.com/cards/300/7dxh2-yCBy1x44GrBaL29vjqnEEeJXHEAlsi5g6D1eY.png'}},\n",
       "    {'name': 'Bandit',\n",
       "     'id': 26000046,\n",
       "     'level': 5,\n",
       "     'starLevel': 1,\n",
       "     'maxLevel': 5,\n",
       "     'iconUrls': {'medium': 'https://api-assets.clashroyale.com/cards/300/QWDdXMKJNpv0go-HYaWQWP6p8uIOHjqn-zX7G0p3DyM.png'}},\n",
       "    {'name': 'Goblin Gang',\n",
       "     'id': 26000041,\n",
       "     'level': 13,\n",
       "     'maxLevel': 13,\n",
       "     'iconUrls': {'medium': 'https://api-assets.clashroyale.com/cards/300/NHflxzVAQT4oAz7eDfdueqpictb5vrWezn1nuqFhE4w.png'}}]}]}"
      ]
     },
     "execution_count": 9,
     "metadata": {},
     "output_type": "execute_result"
    }
   ],
   "source": [
    "bl"
   ]
  },
  {
   "cell_type": "code",
   "execution_count": 24,
   "metadata": {},
   "outputs": [
    {
     "data": {
      "text/plain": [
       "{'type': 'clanWarCollectionDay',\n",
       " 'battleTime': '20200101T223353.000Z',\n",
       " 'isLadderTournament': False,\n",
       " 'arena': {'id': 54000039, 'name': 'Legendary Arena'},\n",
       " 'gameMode': {'id': 72000087, 'name': 'ClassicDecks_Friendly'},\n",
       " 'deckSelection': 'eventDeck',\n",
       " 'team': [{'tag': '#8C08LQRR',\n",
       "   'name': '智取其乳',\n",
       "   'startingTrophies': 6286,\n",
       "   'crowns': 0,\n",
       "   'kingTowerHitPoints': 4008,\n",
       "   'princessTowersHitPoints': [2534],\n",
       "   'clan': {'tag': '#C9GPGG', 'name': '团结保卫钓岛', 'badgeId': 16000008},\n",
       "   'cards': [{'name': 'P.E.K.K.A',\n",
       "     'id': 26000004,\n",
       "     'level': 4,\n",
       "     'maxLevel': 8,\n",
       "     'iconUrls': {'medium': 'https://api-assets.clashroyale.com/cards/300/MlArURKhn_zWAZY-Xj1qIRKLVKquarG25BXDjUQajNs.png'}},\n",
       "    {'name': 'Minions',\n",
       "     'id': 26000005,\n",
       "     'level': 9,\n",
       "     'maxLevel': 13,\n",
       "     'iconUrls': {'medium': 'https://api-assets.clashroyale.com/cards/300/yHGpoEnmUWPGV_hBbhn-Kk-Bs838OjGzWzJJlQpQKQA.png'}},\n",
       "    {'name': 'Battle Ram',\n",
       "     'id': 26000036,\n",
       "     'level': 7,\n",
       "     'maxLevel': 11,\n",
       "     'iconUrls': {'medium': 'https://api-assets.clashroyale.com/cards/300/dyc50V2cplKi4H7pq1B3I36pl_sEH5DQrNHboS_dbbM.png'}},\n",
       "    {'name': 'Electro Wizard',\n",
       "     'id': 26000042,\n",
       "     'level': 1,\n",
       "     'maxLevel': 5,\n",
       "     'iconUrls': {'medium': 'https://api-assets.clashroyale.com/cards/300/RsFaHgB3w6vXsTjXdPr3x8l_GbV9TbOUCvIx07prbrQ.png'}},\n",
       "    {'name': 'Dark Prince',\n",
       "     'id': 26000027,\n",
       "     'level': 4,\n",
       "     'maxLevel': 8,\n",
       "     'iconUrls': {'medium': 'https://api-assets.clashroyale.com/cards/300/M7fXlrKXHu2IvpSGpk36kXVstslbR08Bbxcy0jQcln8.png'}},\n",
       "    {'name': 'Bandit',\n",
       "     'id': 26000046,\n",
       "     'level': 1,\n",
       "     'maxLevel': 5,\n",
       "     'iconUrls': {'medium': 'https://api-assets.clashroyale.com/cards/300/QWDdXMKJNpv0go-HYaWQWP6p8uIOHjqn-zX7G0p3DyM.png'}},\n",
       "    {'name': 'Zap',\n",
       "     'id': 28000008,\n",
       "     'level': 9,\n",
       "     'maxLevel': 13,\n",
       "     'iconUrls': {'medium': 'https://api-assets.clashroyale.com/cards/300/7dxh2-yCBy1x44GrBaL29vjqnEEeJXHEAlsi5g6D1eY.png'}},\n",
       "    {'name': 'Poison',\n",
       "     'id': 28000009,\n",
       "     'level': 4,\n",
       "     'maxLevel': 8,\n",
       "     'iconUrls': {'medium': 'https://api-assets.clashroyale.com/cards/300/98HDkG2189yOULcVG9jz2QbJKtfuhH21DIrIjkOjxI8.png'}}]}],\n",
       " 'opponent': [{'tag': '#JPGPL29',\n",
       "   'name': '검붉은',\n",
       "   'startingTrophies': 6109,\n",
       "   'crowns': 1,\n",
       "   'kingTowerHitPoints': 4008,\n",
       "   'princessTowersHitPoints': [2534, 824],\n",
       "   'clan': {'tag': '#RR9VGU', 'name': 'BattleZone', 'badgeId': 16000002},\n",
       "   'cards': [{'name': 'Ram Rider',\n",
       "     'id': 26000051,\n",
       "     'level': 1,\n",
       "     'maxLevel': 5,\n",
       "     'iconUrls': {'medium': 'https://api-assets.clashroyale.com/cards/300/QaJyerT7f7oMyZ3Fv1glKymtLSvx7YUXisAulxl7zRI.png'}},\n",
       "    {'name': 'Bandit',\n",
       "     'id': 26000046,\n",
       "     'level': 1,\n",
       "     'maxLevel': 5,\n",
       "     'iconUrls': {'medium': 'https://api-assets.clashroyale.com/cards/300/QWDdXMKJNpv0go-HYaWQWP6p8uIOHjqn-zX7G0p3DyM.png'}},\n",
       "    {'name': 'Lumberjack',\n",
       "     'id': 26000035,\n",
       "     'level': 1,\n",
       "     'maxLevel': 5,\n",
       "     'iconUrls': {'medium': 'https://api-assets.clashroyale.com/cards/300/E6RWrnCuk13xMX5OE1EQtLEKTZQV6B78d00y8PlXt6Q.png'}},\n",
       "    {'name': 'Musketeer',\n",
       "     'id': 26000014,\n",
       "     'level': 7,\n",
       "     'maxLevel': 11,\n",
       "     'iconUrls': {'medium': 'https://api-assets.clashroyale.com/cards/300/Tex1C48UTq9FKtAX-3tzG0FJmc9jzncUZG3bb5Vf-Ds.png'}},\n",
       "    {'name': 'Giant Snowball',\n",
       "     'id': 28000017,\n",
       "     'level': 9,\n",
       "     'maxLevel': 13,\n",
       "     'iconUrls': {'medium': 'https://api-assets.clashroyale.com/cards/300/7MaJLa6hK9WN2_VIshuh5DIDfGwm0wEv98gXtAxLDPs.png'}},\n",
       "    {'name': 'Barbarian Barrel',\n",
       "     'id': 28000015,\n",
       "     'level': 4,\n",
       "     'maxLevel': 8,\n",
       "     'iconUrls': {'medium': 'https://api-assets.clashroyale.com/cards/300/Gb0G1yNy0i5cIGUHin8uoFWxqntNtRPhY_jeMXg7HnA.png'}},\n",
       "    {'name': 'Ice Golem',\n",
       "     'id': 26000038,\n",
       "     'level': 7,\n",
       "     'maxLevel': 11,\n",
       "     'iconUrls': {'medium': 'https://api-assets.clashroyale.com/cards/300/r05cmpwV1o7i7FHodtZwW3fmjbXCW34IJCsDEV5cZC4.png'}},\n",
       "    {'name': 'Minions',\n",
       "     'id': 26000005,\n",
       "     'level': 9,\n",
       "     'maxLevel': 13,\n",
       "     'iconUrls': {'medium': 'https://api-assets.clashroyale.com/cards/300/yHGpoEnmUWPGV_hBbhn-Kk-Bs838OjGzWzJJlQpQKQA.png'}}]}]}"
      ]
     },
     "execution_count": 24,
     "metadata": {},
     "output_type": "execute_result"
    }
   ],
   "source": [
    "data_json[0]"
   ]
  },
  {
   "cell_type": "code",
   "execution_count": null,
   "metadata": {},
   "outputs": [],
   "source": []
  }
 ],
 "metadata": {
  "kernelspec": {
   "display_name": "Python 3",
   "language": "python",
   "name": "python3"
  },
  "language_info": {
   "codemirror_mode": {
    "name": "ipython",
    "version": 3
   },
   "file_extension": ".py",
   "mimetype": "text/x-python",
   "name": "python",
   "nbconvert_exporter": "python",
   "pygments_lexer": "ipython3",
   "version": "3.7.3"
  }
 },
 "nbformat": 4,
 "nbformat_minor": 2
}
