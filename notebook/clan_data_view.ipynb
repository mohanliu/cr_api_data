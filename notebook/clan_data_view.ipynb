{
 "cells": [
  {
   "cell_type": "code",
   "execution_count": 75,
   "metadata": {},
   "outputs": [],
   "source": [
    "import urllib.request\n",
    "import json\n",
    "import pandas as pd"
   ]
  },
  {
   "cell_type": "code",
   "execution_count": 43,
   "metadata": {},
   "outputs": [],
   "source": [
    "with open('../token.txt', 'r') as f:\n",
    "    my_key = f.read().rstrip(\"\\n\")"
   ]
  },
  {
   "cell_type": "code",
   "execution_count": 44,
   "metadata": {},
   "outputs": [],
   "source": [
    "base_url = \"https://api.clashroyale.com/v1\""
   ]
  },
  {
   "cell_type": "code",
   "execution_count": 67,
   "metadata": {},
   "outputs": [],
   "source": [
    "# endpoint = \"/clans?minMembers=20\"\n",
    "endpoint = \"/clans/%23C9GPGG/members\" "
   ]
  },
  {
   "cell_type": "markdown",
   "metadata": {},
   "source": [
    "Note: need to escape `#` to `%23`."
   ]
  },
  {
   "cell_type": "code",
   "execution_count": 68,
   "metadata": {},
   "outputs": [],
   "source": [
    "request = urllib.request.Request(\n",
    "    base_url + endpoint,\n",
    "    None,\n",
    "    {\n",
    "        \"Authorization\": \"Bearer %s\" % my_key\n",
    "    }\n",
    ")"
   ]
  },
  {
   "cell_type": "code",
   "execution_count": 69,
   "metadata": {
    "scrolled": false
   },
   "outputs": [],
   "source": [
    "response = urllib.request.urlopen(request).read().decode(\"utf-8\")"
   ]
  },
  {
   "cell_type": "code",
   "execution_count": 70,
   "metadata": {},
   "outputs": [],
   "source": [
    "data_json = json.loads(response)"
   ]
  },
  {
   "cell_type": "code",
   "execution_count": 83,
   "metadata": {},
   "outputs": [
    {
     "data": {
      "text/plain": [
       "{'tag': '#8C08LQRR',\n",
       " 'name': '智取其乳',\n",
       " 'role': 'leader',\n",
       " 'lastSeen': '20200102T051940.000Z',\n",
       " 'expLevel': 13,\n",
       " 'trophies': 6286,\n",
       " 'arena': {'id': 54000018, 'name': 'Champion'},\n",
       " 'clanRank': 1,\n",
       " 'previousClanRank': 2,\n",
       " 'donations': 812,\n",
       " 'donationsReceived': 400,\n",
       " 'clanChestPoints': 0}"
      ]
     },
     "execution_count": 83,
     "metadata": {},
     "output_type": "execute_result"
    }
   ],
   "source": [
    "data_json['items'][0]"
   ]
  },
  {
   "cell_type": "code",
   "execution_count": 78,
   "metadata": {},
   "outputs": [],
   "source": [
    "df = pd.DataFrame.from_dict(data_json['items'])"
   ]
  },
  {
   "cell_type": "code",
   "execution_count": 84,
   "metadata": {},
   "outputs": [
    {
     "data": {
      "text/html": [
       "<div>\n",
       "<style scoped>\n",
       "    .dataframe tbody tr th:only-of-type {\n",
       "        vertical-align: middle;\n",
       "    }\n",
       "\n",
       "    .dataframe tbody tr th {\n",
       "        vertical-align: top;\n",
       "    }\n",
       "\n",
       "    .dataframe thead th {\n",
       "        text-align: right;\n",
       "    }\n",
       "</style>\n",
       "<table border=\"1\" class=\"dataframe\">\n",
       "  <thead>\n",
       "    <tr style=\"text-align: right;\">\n",
       "      <th></th>\n",
       "      <th>name</th>\n",
       "      <th>tag</th>\n",
       "      <th>role</th>\n",
       "      <th>trophies</th>\n",
       "    </tr>\n",
       "  </thead>\n",
       "  <tbody>\n",
       "    <tr>\n",
       "      <th>0</th>\n",
       "      <td>智取其乳</td>\n",
       "      <td>#8C08LQRR</td>\n",
       "      <td>leader</td>\n",
       "      <td>6286</td>\n",
       "    </tr>\n",
       "    <tr>\n",
       "      <th>1</th>\n",
       "      <td>笨小孩</td>\n",
       "      <td>#PQY22G00</td>\n",
       "      <td>coLeader</td>\n",
       "      <td>6218</td>\n",
       "    </tr>\n",
       "    <tr>\n",
       "      <th>2</th>\n",
       "      <td>3+2=5</td>\n",
       "      <td>#VYY9YJJ9</td>\n",
       "      <td>coLeader</td>\n",
       "      <td>6182</td>\n",
       "    </tr>\n",
       "    <tr>\n",
       "      <th>3</th>\n",
       "      <td>goldminers</td>\n",
       "      <td>#98QYLYV8R</td>\n",
       "      <td>coLeader</td>\n",
       "      <td>6129</td>\n",
       "    </tr>\n",
       "    <tr>\n",
       "      <th>4</th>\n",
       "      <td>mervyn</td>\n",
       "      <td>#G2RPJVRJ</td>\n",
       "      <td>coLeader</td>\n",
       "      <td>6120</td>\n",
       "    </tr>\n",
       "    <tr>\n",
       "      <th>5</th>\n",
       "      <td>大魔王</td>\n",
       "      <td>#JL8PRRPQ</td>\n",
       "      <td>coLeader</td>\n",
       "      <td>6058</td>\n",
       "    </tr>\n",
       "    <tr>\n",
       "      <th>6</th>\n",
       "      <td>泥鳅</td>\n",
       "      <td>#YLL9LRQL</td>\n",
       "      <td>elder</td>\n",
       "      <td>6049</td>\n",
       "    </tr>\n",
       "    <tr>\n",
       "      <th>7</th>\n",
       "      <td>小鑫丨Knight ™</td>\n",
       "      <td>#9GPYRY9YG</td>\n",
       "      <td>member</td>\n",
       "      <td>6049</td>\n",
       "    </tr>\n",
       "    <tr>\n",
       "      <th>8</th>\n",
       "      <td>bobo</td>\n",
       "      <td>#2C8LUP2Y</td>\n",
       "      <td>coLeader</td>\n",
       "      <td>6031</td>\n",
       "    </tr>\n",
       "    <tr>\n",
       "      <th>9</th>\n",
       "      <td>灭世魔神</td>\n",
       "      <td>#28LYYYRRQ</td>\n",
       "      <td>coLeader</td>\n",
       "      <td>6029</td>\n",
       "    </tr>\n",
       "  </tbody>\n",
       "</table>\n",
       "</div>"
      ],
      "text/plain": [
       "          name         tag      role  trophies\n",
       "0         智取其乳   #8C08LQRR    leader      6286\n",
       "1          笨小孩   #PQY22G00  coLeader      6218\n",
       "2        3+2=5   #VYY9YJJ9  coLeader      6182\n",
       "3   goldminers  #98QYLYV8R  coLeader      6129\n",
       "4       mervyn   #G2RPJVRJ  coLeader      6120\n",
       "5          大魔王   #JL8PRRPQ  coLeader      6058\n",
       "6           泥鳅   #YLL9LRQL     elder      6049\n",
       "7  小鑫丨Knight ™  #9GPYRY9YG    member      6049\n",
       "8         bobo   #2C8LUP2Y  coLeader      6031\n",
       "9         灭世魔神  #28LYYYRRQ  coLeader      6029"
      ]
     },
     "execution_count": 84,
     "metadata": {},
     "output_type": "execute_result"
    }
   ],
   "source": [
    "df[['name', 'tag', 'role', 'trophies']].head(10)"
   ]
  },
  {
   "cell_type": "code",
   "execution_count": 73,
   "metadata": {},
   "outputs": [
    {
     "data": {
      "text/plain": [
       "{'tag': '#8C08LQRR',\n",
       " 'name': '智取其乳',\n",
       " 'role': 'leader',\n",
       " 'lastSeen': '20200102T051940.000Z',\n",
       " 'expLevel': 13,\n",
       " 'trophies': 6286,\n",
       " 'arena': {'id': 54000018, 'name': 'Champion'},\n",
       " 'clanRank': 1,\n",
       " 'previousClanRank': 2,\n",
       " 'donations': 812,\n",
       " 'donationsReceived': 400,\n",
       " 'clanChestPoints': 0}"
      ]
     },
     "execution_count": 73,
     "metadata": {},
     "output_type": "execute_result"
    }
   ],
   "source": [
    "data_json['items'][0]"
   ]
  },
  {
   "cell_type": "code",
   "execution_count": null,
   "metadata": {},
   "outputs": [],
   "source": []
  }
 ],
 "metadata": {
  "kernelspec": {
   "display_name": "Python 3",
   "language": "python",
   "name": "python3"
  },
  "language_info": {
   "codemirror_mode": {
    "name": "ipython",
    "version": 3
   },
   "file_extension": ".py",
   "mimetype": "text/x-python",
   "name": "python",
   "nbconvert_exporter": "python",
   "pygments_lexer": "ipython3",
   "version": "3.7.3"
  }
 },
 "nbformat": 4,
 "nbformat_minor": 2
}
